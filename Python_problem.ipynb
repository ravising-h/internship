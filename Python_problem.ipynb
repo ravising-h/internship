{
  "nbformat": 4,
  "nbformat_minor": 0,
  "metadata": {
    "colab": {
      "name": "Untitled.ipynb",
      "version": "0.3.2",
      "provenance": []
    },
    "kernelspec": {
      "name": "python3",
      "display_name": "Python 3"
    },
    "accelerator": "GPU"
  },
  "cells": [
    {
      "metadata": {
        "id": "RSai8rguFilb",
        "colab_type": "code",
        "colab": {}
      },
      "cell_type": "code",
      "source": [
        "import tweepy"
      ],
      "execution_count": 0,
      "outputs": []
    },
    {
      "metadata": {
        "id": "T4phFOK1Fil0",
        "colab_type": "code",
        "colab": {}
      },
      "cell_type": "code",
      "source": [
        "auth = tweepy.OAuthHandler('GnniEt0kNvDoataIMMtGZpm4v','OBIRcffuWgUfZTQ46AhAMOwM59zJTWfsPw4iGtJablJuSGLdCB')\n",
        "auth.set_access_token('695613462597074945-F6Pvaxn0yRx3ZEy5lTuH0vJKlR8fcKm','jP729Ww8ZzJbNCVvSktbW3bYwk9NY4hpqd3GM9aFPW9Ip')"
      ],
      "execution_count": 0,
      "outputs": []
    },
    {
      "metadata": {
        "id": "9jMebA2BFimB",
        "colab_type": "code",
        "colab": {}
      },
      "cell_type": "code",
      "source": [
        "api = tweepy.API(auth)"
      ],
      "execution_count": 0,
      "outputs": []
    },
    {
      "metadata": {
        "id": "9KE3DT7YFimQ",
        "colab_type": "code",
        "colab": {}
      },
      "cell_type": "code",
      "source": [
        "user = api.get_user('MIDASIIITD')"
      ],
      "execution_count": 0,
      "outputs": []
    },
    {
      "metadata": {
        "id": "ER0APLWtFimb",
        "colab_type": "code",
        "colab": {
          "base_uri": "https://localhost:8080/",
          "height": 90
        },
        "outputId": "037bd953-3430-422d-9605-9e4aeec59b4e"
      },
      "cell_type": "code",
      "source": [
        "print('User name ->',user.screen_name,end = '\\n\\n')\n",
        "print('no_of_followers ->',user.followers_count,end = '\\n\\n')"
      ],
      "execution_count": 49,
      "outputs": [
        {
          "output_type": "stream",
          "text": [
            "User name -> midasIIITD\n",
            "\n",
            "no_of_followers -> 233\n",
            "\n"
          ],
          "name": "stdout"
        }
      ]
    },
    {
      "metadata": {
        "id": "bXwkUUF1Fimq",
        "colab_type": "code",
        "colab": {}
      },
      "cell_type": "code",
      "source": [
        "result_set_midas = user.timeline(count = 327,truncated = False)"
      ],
      "execution_count": 0,
      "outputs": []
    },
    {
      "metadata": {
        "id": "ta9j0Pa-Fim5",
        "colab_type": "code",
        "colab": {
          "base_uri": "https://localhost:8080/",
          "height": 35
        },
        "outputId": "8ff97b59-9058-43ea-c50b-cde728610fa2"
      },
      "cell_type": "code",
      "source": [
        "no_of_tweets_ret = len(result_set_midas)\n",
        "no_of_status = user.statuses_count\n",
        "user.statuses_count,no_of_tweets_ret"
      ],
      "execution_count": 51,
      "outputs": [
        {
          "output_type": "execute_result",
          "data": {
            "text/plain": [
              "(327, 200)"
            ]
          },
          "metadata": {
            "tags": []
          },
          "execution_count": 51
        }
      ]
    },
    {
      "metadata": {
        "id": "sYWWdW_pFinJ",
        "colab_type": "code",
        "colab": {}
      },
      "cell_type": "code",
      "source": [
        "last_id = result_set_midas[-1]._json['id']"
      ],
      "execution_count": 0,
      "outputs": []
    },
    {
      "metadata": {
        "id": "V7cgFUcPFinc",
        "colab_type": "code",
        "colab": {
          "base_uri": "https://localhost:8080/",
          "height": 35
        },
        "outputId": "f081ac8f-f73c-467f-f1e3-4888a6a98882"
      },
      "cell_type": "code",
      "source": [
        "result_set_midas_older = user.timeline(max_id = last_id,count = no_of_status-no_of_tweets_ret )\n",
        "no_of_tweets_ret_older = len(result_set_midas_older)\n",
        "no_of_tweets_ret_older"
      ],
      "execution_count": 53,
      "outputs": [
        {
          "output_type": "execute_result",
          "data": {
            "text/plain": [
              "127"
            ]
          },
          "metadata": {
            "tags": []
          },
          "execution_count": 53
        }
      ]
    },
    {
      "metadata": {
        "id": "Tx_5DYKYFinz",
        "colab_type": "code",
        "colab": {
          "base_uri": "https://localhost:8080/",
          "height": 54
        },
        "outputId": "cfe042ed-4518-495b-88c5-7942a5c5c1c8"
      },
      "cell_type": "code",
      "source": [
        "print(result_set_midas[-1]._json['id'])\n",
        "print(result_set_midas_older[0]._json['id'])"
      ],
      "execution_count": 54,
      "outputs": [
        {
          "output_type": "stream",
          "text": [
            "1056377151451099137\n",
            "1056377151451099137\n"
          ],
          "name": "stdout"
        }
      ]
    },
    {
      "metadata": {
        "id": "25LKVtgCFioD",
        "colab_type": "code",
        "colab": {}
      },
      "cell_type": "code",
      "source": [
        "data = []\n",
        "result = result_set_midas+result_set_midas_older\n",
        "for i in range(no_of_status):\n",
        "    data.append(result[i]._json)"
      ],
      "execution_count": 0,
      "outputs": []
    },
    {
      "metadata": {
        "id": "KVb59IUXFioP",
        "colab_type": "code",
        "colab": {}
      },
      "cell_type": "code",
      "source": [
        "import json"
      ],
      "execution_count": 0,
      "outputs": []
    },
    {
      "metadata": {
        "id": "Y88sffLdFioX",
        "colab_type": "code",
        "colab": {
          "base_uri": "https://localhost:8080/",
          "height": 35
        },
        "outputId": "aad70ea6-5552-4393-c636-9be4be64e345"
      },
      "cell_type": "code",
      "source": [
        "with open('result.json','w') as fp:\n",
        "    json.dump(data, fp)\n",
        "fp.close"
      ],
      "execution_count": 57,
      "outputs": [
        {
          "output_type": "execute_result",
          "data": {
            "text/plain": [
              "<function TextIOWrapper.close>"
            ]
          },
          "metadata": {
            "tags": []
          },
          "execution_count": 57
        }
      ]
    },
    {
      "metadata": {
        "id": "ex9URtZLFioj",
        "colab_type": "code",
        "colab": {}
      },
      "cell_type": "code",
      "source": [
        "with open('result.json','r') as fp:\n",
        "    try:\n",
        "        data = json.load(fp)\n",
        "    except:\n",
        "        print('JSON is not loading')\n",
        "    fp.close"
      ],
      "execution_count": 0,
      "outputs": []
    },
    {
      "metadata": {
        "id": "T1YG1CldFiot",
        "colab_type": "code",
        "colab": {
          "base_uri": "https://localhost:8080/",
          "height": 35
        },
        "outputId": "bb57c83a-65ec-43fe-eebf-7e7c1d4112e7"
      },
      "cell_type": "code",
      "source": [
        "len(data)"
      ],
      "execution_count": 59,
      "outputs": [
        {
          "output_type": "execute_result",
          "data": {
            "text/plain": [
              "327"
            ]
          },
          "metadata": {
            "tags": []
          },
          "execution_count": 59
        }
      ]
    },
    {
      "metadata": {
        "id": "1fi2htyRFipA",
        "colab_type": "code",
        "colab": {}
      },
      "cell_type": "code",
      "source": [
        "coloumn = ['created_at','text','retweet_count','favorite_count','no_of_media']"
      ],
      "execution_count": 0,
      "outputs": []
    },
    {
      "metadata": {
        "id": "DYfxmawfFipS",
        "colab_type": "code",
        "colab": {}
      },
      "cell_type": "code",
      "source": [
        ""
      ],
      "execution_count": 0,
      "outputs": []
    },
    {
      "metadata": {
        "id": "dOb5HraOFipu",
        "colab_type": "code",
        "colab": {}
      },
      "cell_type": "code",
      "source": [
        "import pandas as pd"
      ],
      "execution_count": 0,
      "outputs": []
    },
    {
      "metadata": {
        "id": "lE50nfGRFip7",
        "colab_type": "code",
        "colab": {}
      },
      "cell_type": "code",
      "source": [
        "tweet = [['' for i in range(len(coloumn))] for j in range(no_of_status)]\n"
      ],
      "execution_count": 0,
      "outputs": []
    },
    {
      "metadata": {
        "id": "GiNH1H9hFiqF",
        "colab_type": "code",
        "colab": {}
      },
      "cell_type": "code",
      "source": [
        "for i in range(no_of_status):\n",
        "    for j in range(len(coloumn)-1):\n",
        "        tweet[i][j] = data[i][coloumn[j]]\n",
        "    try:\n",
        "      tweet[i][-1] = len([data[i]['entities']['media']])\n",
        "    except:\n",
        "      tweet[i][-1] = 'None'"
      ],
      "execution_count": 0,
      "outputs": []
    },
    {
      "metadata": {
        "id": "Rhxs3CYUGg8v",
        "colab_type": "code",
        "colab": {}
      },
      "cell_type": "code",
      "source": [
        ""
      ],
      "execution_count": 0,
      "outputs": []
    },
    {
      "metadata": {
        "id": "khCbTiKlFiqM",
        "colab_type": "code",
        "colab": {}
      },
      "cell_type": "code",
      "source": [
        "d = pd.DataFrame(tweet,columns = coloumn)"
      ],
      "execution_count": 0,
      "outputs": []
    },
    {
      "metadata": {
        "id": "v95JspAJFiqa",
        "colab_type": "code",
        "colab": {
          "base_uri": "https://localhost:8080/",
          "height": 1992
        },
        "outputId": "429ff334-5f8c-416e-fa4c-9b37011beb32"
      },
      "cell_type": "code",
      "source": [
        "d"
      ],
      "execution_count": 65,
      "outputs": [
        {
          "output_type": "execute_result",
          "data": {
            "text/html": [
              "<div>\n",
              "<style scoped>\n",
              "    .dataframe tbody tr th:only-of-type {\n",
              "        vertical-align: middle;\n",
              "    }\n",
              "\n",
              "    .dataframe tbody tr th {\n",
              "        vertical-align: top;\n",
              "    }\n",
              "\n",
              "    .dataframe thead th {\n",
              "        text-align: right;\n",
              "    }\n",
              "</style>\n",
              "<table border=\"1\" class=\"dataframe\">\n",
              "  <thead>\n",
              "    <tr style=\"text-align: right;\">\n",
              "      <th></th>\n",
              "      <th>created_at</th>\n",
              "      <th>text</th>\n",
              "      <th>retweet_count</th>\n",
              "      <th>favorite_count</th>\n",
              "      <th>no_of_media</th>\n",
              "    </tr>\n",
              "  </thead>\n",
              "  <tbody>\n",
              "    <tr>\n",
              "      <th>0</th>\n",
              "      <td>Fri Apr 05 16:08:37 +0000 2019</td>\n",
              "      <td>We have emailed the task details to all candid...</td>\n",
              "      <td>1</td>\n",
              "      <td>7</td>\n",
              "      <td>None</td>\n",
              "    </tr>\n",
              "    <tr>\n",
              "      <th>1</th>\n",
              "      <td>Fri Apr 05 04:05:11 +0000 2019</td>\n",
              "      <td>RT @rfpvjr: Our NAACL paper on polarization in...</td>\n",
              "      <td>16</td>\n",
              "      <td>0</td>\n",
              "      <td>None</td>\n",
              "    </tr>\n",
              "    <tr>\n",
              "      <th>2</th>\n",
              "      <td>Fri Apr 05 04:04:43 +0000 2019</td>\n",
              "      <td>RT @kdnuggets: Effective Transfer Learning For...</td>\n",
              "      <td>10</td>\n",
              "      <td>0</td>\n",
              "      <td>1</td>\n",
              "    </tr>\n",
              "    <tr>\n",
              "      <th>3</th>\n",
              "      <td>Wed Apr 03 18:31:53 +0000 2019</td>\n",
              "      <td>RT @stanfordnlp: What’s new in @Stanford CS224...</td>\n",
              "      <td>55</td>\n",
              "      <td>0</td>\n",
              "      <td>None</td>\n",
              "    </tr>\n",
              "    <tr>\n",
              "      <th>4</th>\n",
              "      <td>Wed Apr 03 17:04:32 +0000 2019</td>\n",
              "      <td>RT @DeepMindAI: Today we're releasing a large-...</td>\n",
              "      <td>841</td>\n",
              "      <td>0</td>\n",
              "      <td>None</td>\n",
              "    </tr>\n",
              "    <tr>\n",
              "      <th>5</th>\n",
              "      <td>Wed Apr 03 09:03:40 +0000 2019</td>\n",
              "      <td>RT @ylecun: Congratulations Jitendra Malik !\\n...</td>\n",
              "      <td>16</td>\n",
              "      <td>0</td>\n",
              "      <td>None</td>\n",
              "    </tr>\n",
              "    <tr>\n",
              "      <th>6</th>\n",
              "      <td>Wed Apr 03 07:46:02 +0000 2019</td>\n",
              "      <td>RT @IIITDelhi: Another chance to take admissio...</td>\n",
              "      <td>4</td>\n",
              "      <td>0</td>\n",
              "      <td>None</td>\n",
              "    </tr>\n",
              "    <tr>\n",
              "      <th>7</th>\n",
              "      <td>Tue Apr 02 04:20:13 +0000 2019</td>\n",
              "      <td>Dear @midasIIITD internship candidates who hav...</td>\n",
              "      <td>1</td>\n",
              "      <td>8</td>\n",
              "      <td>None</td>\n",
              "    </tr>\n",
              "    <tr>\n",
              "      <th>8</th>\n",
              "      <td>Tue Apr 02 02:44:54 +0000 2019</td>\n",
              "      <td>Looking forward to your paper submission to @I...</td>\n",
              "      <td>1</td>\n",
              "      <td>5</td>\n",
              "      <td>None</td>\n",
              "    </tr>\n",
              "    <tr>\n",
              "      <th>9</th>\n",
              "      <td>Tue Apr 02 02:35:44 +0000 2019</td>\n",
              "      <td>RT @ngrams: Reproducibility in multimedia rese...</td>\n",
              "      <td>7</td>\n",
              "      <td>0</td>\n",
              "      <td>None</td>\n",
              "    </tr>\n",
              "    <tr>\n",
              "      <th>10</th>\n",
              "      <td>Mon Apr 01 06:53:08 +0000 2019</td>\n",
              "      <td>Online application for https://t.co/DJFDrQsHZP...</td>\n",
              "      <td>1</td>\n",
              "      <td>6</td>\n",
              "      <td>None</td>\n",
              "    </tr>\n",
              "    <tr>\n",
              "      <th>11</th>\n",
              "      <td>Sun Mar 31 10:21:24 +0000 2019</td>\n",
              "      <td>RT @ACMMM19: A final reminder of the Reproduci...</td>\n",
              "      <td>10</td>\n",
              "      <td>0</td>\n",
              "      <td>None</td>\n",
              "    </tr>\n",
              "    <tr>\n",
              "      <th>12</th>\n",
              "      <td>Fri Mar 29 19:43:24 +0000 2019</td>\n",
              "      <td>RT @isarth23: Thanks for the support and help ...</td>\n",
              "      <td>2</td>\n",
              "      <td>0</td>\n",
              "      <td>None</td>\n",
              "    </tr>\n",
              "    <tr>\n",
              "      <th>13</th>\n",
              "      <td>Fri Mar 29 17:16:40 +0000 2019</td>\n",
              "      <td>Since SemEval-2019 will be held June 6-7, 2019...</td>\n",
              "      <td>1</td>\n",
              "      <td>9</td>\n",
              "      <td>None</td>\n",
              "    </tr>\n",
              "    <tr>\n",
              "      <th>14</th>\n",
              "      <td>Fri Mar 29 17:04:30 +0000 2019</td>\n",
              "      <td>+@aggarwal_kartik.\\nCongrats! Wish you many mo...</td>\n",
              "      <td>0</td>\n",
              "      <td>2</td>\n",
              "      <td>None</td>\n",
              "    </tr>\n",
              "    <tr>\n",
              "      <th>15</th>\n",
              "      <td>Fri Mar 29 17:03:29 +0000 2019</td>\n",
              "      <td>RT @aggarwal_kartik: Our work (@midasIIITD ) a...</td>\n",
              "      <td>1</td>\n",
              "      <td>0</td>\n",
              "      <td>None</td>\n",
              "    </tr>\n",
              "    <tr>\n",
              "      <th>16</th>\n",
              "      <td>Fri Mar 29 17:02:24 +0000 2019</td>\n",
              "      <td>Congratulations! @midasIIITD team, @isarth23 @...</td>\n",
              "      <td>1</td>\n",
              "      <td>9</td>\n",
              "      <td>None</td>\n",
              "    </tr>\n",
              "    <tr>\n",
              "      <th>17</th>\n",
              "      <td>Fri Mar 29 05:35:22 +0000 2019</td>\n",
              "      <td>@EEMLcommunity @radamihalcea too many deadline...</td>\n",
              "      <td>0</td>\n",
              "      <td>0</td>\n",
              "      <td>None</td>\n",
              "    </tr>\n",
              "    <tr>\n",
              "      <th>18</th>\n",
              "      <td>Thu Mar 28 16:55:01 +0000 2019</td>\n",
              "      <td>RT @stanfordnlp: CS224N Natural Language Proce...</td>\n",
              "      <td>710</td>\n",
              "      <td>0</td>\n",
              "      <td>None</td>\n",
              "    </tr>\n",
              "    <tr>\n",
              "      <th>19</th>\n",
              "      <td>Thu Mar 28 16:54:37 +0000 2019</td>\n",
              "      <td>RT @ylecun: Learn PyTorch by running on Google...</td>\n",
              "      <td>157</td>\n",
              "      <td>0</td>\n",
              "      <td>None</td>\n",
              "    </tr>\n",
              "    <tr>\n",
              "      <th>20</th>\n",
              "      <td>Wed Mar 27 16:09:09 +0000 2019</td>\n",
              "      <td>Dr. Vineeth N Balasubramanian will present a T...</td>\n",
              "      <td>1</td>\n",
              "      <td>4</td>\n",
              "      <td>None</td>\n",
              "    </tr>\n",
              "    <tr>\n",
              "      <th>21</th>\n",
              "      <td>Wed Mar 27 11:53:40 +0000 2019</td>\n",
              "      <td>RT @ylecun: I am extremely honored to be the r...</td>\n",
              "      <td>1544</td>\n",
              "      <td>0</td>\n",
              "      <td>None</td>\n",
              "    </tr>\n",
              "    <tr>\n",
              "      <th>22</th>\n",
              "      <td>Tue Mar 26 18:12:27 +0000 2019</td>\n",
              "      <td>Thanks to all shortlisted candidates for submi...</td>\n",
              "      <td>1</td>\n",
              "      <td>5</td>\n",
              "      <td>None</td>\n",
              "    </tr>\n",
              "    <tr>\n",
              "      <th>23</th>\n",
              "      <td>Tue Mar 26 05:54:49 +0000 2019</td>\n",
              "      <td>@IEEEBigMM19 @ACMMM19 and 6 days left for work...</td>\n",
              "      <td>0</td>\n",
              "      <td>2</td>\n",
              "      <td>None</td>\n",
              "    </tr>\n",
              "    <tr>\n",
              "      <th>24</th>\n",
              "      <td>Tue Mar 26 05:50:10 +0000 2019</td>\n",
              "      <td>RT @IEEEBigMM19: Hurry Up!\\n6 Days left for Ab...</td>\n",
              "      <td>3</td>\n",
              "      <td>0</td>\n",
              "      <td>None</td>\n",
              "    </tr>\n",
              "    <tr>\n",
              "      <th>25</th>\n",
              "      <td>Mon Mar 25 13:01:57 +0000 2019</td>\n",
              "      <td>Congratulations @midasIIITD students Simra Sha...</td>\n",
              "      <td>1</td>\n",
              "      <td>18</td>\n",
              "      <td>None</td>\n",
              "    </tr>\n",
              "    <tr>\n",
              "      <th>26</th>\n",
              "      <td>Sun Mar 24 18:44:01 +0000 2019</td>\n",
              "      <td>The last date for submitting a solution for th...</td>\n",
              "      <td>3</td>\n",
              "      <td>8</td>\n",
              "      <td>None</td>\n",
              "    </tr>\n",
              "    <tr>\n",
              "      <th>27</th>\n",
              "      <td>Sun Mar 24 18:26:02 +0000 2019</td>\n",
              "      <td>RT @IIITDelhi: @IIITDelhi invites application ...</td>\n",
              "      <td>4</td>\n",
              "      <td>0</td>\n",
              "      <td>None</td>\n",
              "    </tr>\n",
              "    <tr>\n",
              "      <th>28</th>\n",
              "      <td>Sun Mar 24 11:34:27 +0000 2019</td>\n",
              "      <td>One more week is left to submit the workshop p...</td>\n",
              "      <td>0</td>\n",
              "      <td>4</td>\n",
              "      <td>None</td>\n",
              "    </tr>\n",
              "    <tr>\n",
              "      <th>29</th>\n",
              "      <td>Sun Mar 24 06:23:37 +0000 2019</td>\n",
              "      <td>RT @IEEEBigMM19: We are honored to have Dr. Ch...</td>\n",
              "      <td>5</td>\n",
              "      <td>0</td>\n",
              "      <td>None</td>\n",
              "    </tr>\n",
              "    <tr>\n",
              "      <th>...</th>\n",
              "      <td>...</td>\n",
              "      <td>...</td>\n",
              "      <td>...</td>\n",
              "      <td>...</td>\n",
              "      <td>...</td>\n",
              "    </tr>\n",
              "    <tr>\n",
              "      <th>297</th>\n",
              "      <td>Thu Aug 09 10:17:53 +0000 2018</td>\n",
              "      <td>RT @kdnuggets: Ultimate Guide to Getting Start...</td>\n",
              "      <td>111</td>\n",
              "      <td>0</td>\n",
              "      <td>1</td>\n",
              "    </tr>\n",
              "    <tr>\n",
              "      <th>298</th>\n",
              "      <td>Thu Aug 09 05:59:57 +0000 2018</td>\n",
              "      <td>RT @TensorFlow: TensorFlow 1.10.0 has been rel...</td>\n",
              "      <td>265</td>\n",
              "      <td>0</td>\n",
              "      <td>None</td>\n",
              "    </tr>\n",
              "    <tr>\n",
              "      <th>299</th>\n",
              "      <td>Wed Aug 08 11:30:56 +0000 2018</td>\n",
              "      <td>@midasIIITD is looking for motivated IIITD MTe...</td>\n",
              "      <td>1</td>\n",
              "      <td>2</td>\n",
              "      <td>None</td>\n",
              "    </tr>\n",
              "    <tr>\n",
              "      <th>300</th>\n",
              "      <td>Wed Aug 08 05:53:48 +0000 2018</td>\n",
              "      <td>@IIITDelhi @ponguru @RatnRajiv The results of ...</td>\n",
              "      <td>1</td>\n",
              "      <td>3</td>\n",
              "      <td>1</td>\n",
              "    </tr>\n",
              "    <tr>\n",
              "      <th>301</th>\n",
              "      <td>Wed Aug 08 05:45:58 +0000 2018</td>\n",
              "      <td>RT @IIITDelhi: @midasIIITD has secured rank 1 ...</td>\n",
              "      <td>1</td>\n",
              "      <td>0</td>\n",
              "      <td>None</td>\n",
              "    </tr>\n",
              "    <tr>\n",
              "      <th>302</th>\n",
              "      <td>Tue Aug 07 07:16:33 +0000 2018</td>\n",
              "      <td>RT @kdnuggets: Comparison of Top 6 Python NLP ...</td>\n",
              "      <td>40</td>\n",
              "      <td>0</td>\n",
              "      <td>1</td>\n",
              "    </tr>\n",
              "    <tr>\n",
              "      <th>303</th>\n",
              "      <td>Tue Aug 07 02:05:12 +0000 2018</td>\n",
              "      <td>Check more details of the 20th IEEE Internatio...</td>\n",
              "      <td>1</td>\n",
              "      <td>1</td>\n",
              "      <td>None</td>\n",
              "    </tr>\n",
              "    <tr>\n",
              "      <th>304</th>\n",
              "      <td>Tue Aug 07 01:58:49 +0000 2018</td>\n",
              "      <td>MR2AMC@ISM 2018 will be organized by @RatnRaji...</td>\n",
              "      <td>1</td>\n",
              "      <td>1</td>\n",
              "      <td>None</td>\n",
              "    </tr>\n",
              "    <tr>\n",
              "      <th>305</th>\n",
              "      <td>Tue Aug 07 01:50:33 +0000 2018</td>\n",
              "      <td>Our workshop proposal named, \"MR2AMC: Multimod...</td>\n",
              "      <td>1</td>\n",
              "      <td>1</td>\n",
              "      <td>None</td>\n",
              "    </tr>\n",
              "    <tr>\n",
              "      <th>306</th>\n",
              "      <td>Mon Aug 06 17:48:23 +0000 2018</td>\n",
              "      <td>@NUSComputing Congratulations Abdelhak and Pro...</td>\n",
              "      <td>0</td>\n",
              "      <td>0</td>\n",
              "      <td>None</td>\n",
              "    </tr>\n",
              "    <tr>\n",
              "      <th>307</th>\n",
              "      <td>Mon Aug 06 17:46:59 +0000 2018</td>\n",
              "      <td>RT @goodfellow_ian: One of the most anticipate...</td>\n",
              "      <td>103</td>\n",
              "      <td>0</td>\n",
              "      <td>1</td>\n",
              "    </tr>\n",
              "    <tr>\n",
              "      <th>308</th>\n",
              "      <td>Mon Aug 06 06:06:47 +0000 2018</td>\n",
              "      <td>@the_dhumketu Great to have you in @midasIIITD</td>\n",
              "      <td>0</td>\n",
              "      <td>0</td>\n",
              "      <td>None</td>\n",
              "    </tr>\n",
              "    <tr>\n",
              "      <th>309</th>\n",
              "      <td>Fri Aug 03 05:56:33 +0000 2018</td>\n",
              "      <td>Congratulation @soujanyaporia for being appoin...</td>\n",
              "      <td>1</td>\n",
              "      <td>6</td>\n",
              "      <td>None</td>\n",
              "    </tr>\n",
              "    <tr>\n",
              "      <th>310</th>\n",
              "      <td>Wed Aug 01 11:47:15 +0000 2018</td>\n",
              "      <td>@IIITDelhi @the_dhumketu Thanks team @midasIII...</td>\n",
              "      <td>1</td>\n",
              "      <td>5</td>\n",
              "      <td>1</td>\n",
              "    </tr>\n",
              "    <tr>\n",
              "      <th>311</th>\n",
              "      <td>Wed Aug 01 11:20:07 +0000 2018</td>\n",
              "      <td>RT @IIITDelhi: Congratulations @midasIIITD int...</td>\n",
              "      <td>4</td>\n",
              "      <td>0</td>\n",
              "      <td>None</td>\n",
              "    </tr>\n",
              "    <tr>\n",
              "      <th>312</th>\n",
              "      <td>Wed Aug 01 05:06:47 +0000 2018</td>\n",
              "      <td>RT @learning_pt: Profile of the 5 Indian under...</td>\n",
              "      <td>4</td>\n",
              "      <td>0</td>\n",
              "      <td>None</td>\n",
              "    </tr>\n",
              "    <tr>\n",
              "      <th>313</th>\n",
              "      <td>Tue Jul 31 12:11:52 +0000 2018</td>\n",
              "      <td>Have a look at the list of accepted papers in ...</td>\n",
              "      <td>0</td>\n",
              "      <td>1</td>\n",
              "      <td>None</td>\n",
              "    </tr>\n",
              "    <tr>\n",
              "      <th>314</th>\n",
              "      <td>Tue Jul 31 02:06:26 +0000 2018</td>\n",
              "      <td>RT @goodfellow_ian: https://t.co/hYiWI7ntyk Te...</td>\n",
              "      <td>264</td>\n",
              "      <td>0</td>\n",
              "      <td>None</td>\n",
              "    </tr>\n",
              "    <tr>\n",
              "      <th>315</th>\n",
              "      <td>Mon Jul 30 07:30:51 +0000 2018</td>\n",
              "      <td>RT @IIITDelhi: Congratulations Dr. @RatnRajiv ...</td>\n",
              "      <td>2</td>\n",
              "      <td>0</td>\n",
              "      <td>None</td>\n",
              "    </tr>\n",
              "    <tr>\n",
              "      <th>316</th>\n",
              "      <td>Sat Jul 28 11:07:11 +0000 2018</td>\n",
              "      <td>RT @ylecun: Jitendra Malik, who directs FAIR-M...</td>\n",
              "      <td>57</td>\n",
              "      <td>0</td>\n",
              "      <td>None</td>\n",
              "    </tr>\n",
              "    <tr>\n",
              "      <th>317</th>\n",
              "      <td>Sat Jul 28 06:14:09 +0000 2018</td>\n",
              "      <td>RT @kdnuggets: .@Bloomberg launches free cours...</td>\n",
              "      <td>105</td>\n",
              "      <td>0</td>\n",
              "      <td>None</td>\n",
              "    </tr>\n",
              "    <tr>\n",
              "      <th>318</th>\n",
              "      <td>Sat Jul 28 06:13:48 +0000 2018</td>\n",
              "      <td>RT @TechAtBloomberg: Missed #PyLondinium18? Wa...</td>\n",
              "      <td>7</td>\n",
              "      <td>0</td>\n",
              "      <td>None</td>\n",
              "    </tr>\n",
              "    <tr>\n",
              "      <th>319</th>\n",
              "      <td>Sat Jul 28 04:08:21 +0000 2018</td>\n",
              "      <td>RT @IIITDelhi: We are delighted to announce th...</td>\n",
              "      <td>6</td>\n",
              "      <td>0</td>\n",
              "      <td>None</td>\n",
              "    </tr>\n",
              "    <tr>\n",
              "      <th>320</th>\n",
              "      <td>Fri Jul 27 06:46:44 +0000 2018</td>\n",
              "      <td>Get ready for the annual technical fest of @II...</td>\n",
              "      <td>2</td>\n",
              "      <td>3</td>\n",
              "      <td>None</td>\n",
              "    </tr>\n",
              "    <tr>\n",
              "      <th>321</th>\n",
              "      <td>Fri Jul 27 04:07:31 +0000 2018</td>\n",
              "      <td>Congratulations Dr. @RatnRajiv and team @midas...</td>\n",
              "      <td>2</td>\n",
              "      <td>8</td>\n",
              "      <td>None</td>\n",
              "    </tr>\n",
              "    <tr>\n",
              "      <th>322</th>\n",
              "      <td>Wed Jul 25 05:14:35 +0000 2018</td>\n",
              "      <td>Congratulations MIDAS @midasIIITD intern Prakh...</td>\n",
              "      <td>1</td>\n",
              "      <td>5</td>\n",
              "      <td>None</td>\n",
              "    </tr>\n",
              "    <tr>\n",
              "      <th>323</th>\n",
              "      <td>Tue Jul 24 10:33:23 +0000 2018</td>\n",
              "      <td>MIDAS@IIITD foundation. https://t.co/LKuzyBHzjm</td>\n",
              "      <td>1</td>\n",
              "      <td>2</td>\n",
              "      <td>None</td>\n",
              "    </tr>\n",
              "    <tr>\n",
              "      <th>324</th>\n",
              "      <td>Tue Jul 24 10:12:34 +0000 2018</td>\n",
              "      <td>It feels great to be the part of @IIITDelhi. h...</td>\n",
              "      <td>1</td>\n",
              "      <td>2</td>\n",
              "      <td>None</td>\n",
              "    </tr>\n",
              "    <tr>\n",
              "      <th>325</th>\n",
              "      <td>Tue Jul 24 09:46:26 +0000 2018</td>\n",
              "      <td>Thank you, @toonzratn for designing the logo o...</td>\n",
              "      <td>1</td>\n",
              "      <td>4</td>\n",
              "      <td>1</td>\n",
              "    </tr>\n",
              "    <tr>\n",
              "      <th>326</th>\n",
              "      <td>Mon Jul 23 16:25:05 +0000 2018</td>\n",
              "      <td>We are on Facebook too. Like our page to get o...</td>\n",
              "      <td>1</td>\n",
              "      <td>3</td>\n",
              "      <td>None</td>\n",
              "    </tr>\n",
              "  </tbody>\n",
              "</table>\n",
              "<p>327 rows × 5 columns</p>\n",
              "</div>"
            ],
            "text/plain": [
              "                         created_at  \\\n",
              "0    Fri Apr 05 16:08:37 +0000 2019   \n",
              "1    Fri Apr 05 04:05:11 +0000 2019   \n",
              "2    Fri Apr 05 04:04:43 +0000 2019   \n",
              "3    Wed Apr 03 18:31:53 +0000 2019   \n",
              "4    Wed Apr 03 17:04:32 +0000 2019   \n",
              "5    Wed Apr 03 09:03:40 +0000 2019   \n",
              "6    Wed Apr 03 07:46:02 +0000 2019   \n",
              "7    Tue Apr 02 04:20:13 +0000 2019   \n",
              "8    Tue Apr 02 02:44:54 +0000 2019   \n",
              "9    Tue Apr 02 02:35:44 +0000 2019   \n",
              "10   Mon Apr 01 06:53:08 +0000 2019   \n",
              "11   Sun Mar 31 10:21:24 +0000 2019   \n",
              "12   Fri Mar 29 19:43:24 +0000 2019   \n",
              "13   Fri Mar 29 17:16:40 +0000 2019   \n",
              "14   Fri Mar 29 17:04:30 +0000 2019   \n",
              "15   Fri Mar 29 17:03:29 +0000 2019   \n",
              "16   Fri Mar 29 17:02:24 +0000 2019   \n",
              "17   Fri Mar 29 05:35:22 +0000 2019   \n",
              "18   Thu Mar 28 16:55:01 +0000 2019   \n",
              "19   Thu Mar 28 16:54:37 +0000 2019   \n",
              "20   Wed Mar 27 16:09:09 +0000 2019   \n",
              "21   Wed Mar 27 11:53:40 +0000 2019   \n",
              "22   Tue Mar 26 18:12:27 +0000 2019   \n",
              "23   Tue Mar 26 05:54:49 +0000 2019   \n",
              "24   Tue Mar 26 05:50:10 +0000 2019   \n",
              "25   Mon Mar 25 13:01:57 +0000 2019   \n",
              "26   Sun Mar 24 18:44:01 +0000 2019   \n",
              "27   Sun Mar 24 18:26:02 +0000 2019   \n",
              "28   Sun Mar 24 11:34:27 +0000 2019   \n",
              "29   Sun Mar 24 06:23:37 +0000 2019   \n",
              "..                              ...   \n",
              "297  Thu Aug 09 10:17:53 +0000 2018   \n",
              "298  Thu Aug 09 05:59:57 +0000 2018   \n",
              "299  Wed Aug 08 11:30:56 +0000 2018   \n",
              "300  Wed Aug 08 05:53:48 +0000 2018   \n",
              "301  Wed Aug 08 05:45:58 +0000 2018   \n",
              "302  Tue Aug 07 07:16:33 +0000 2018   \n",
              "303  Tue Aug 07 02:05:12 +0000 2018   \n",
              "304  Tue Aug 07 01:58:49 +0000 2018   \n",
              "305  Tue Aug 07 01:50:33 +0000 2018   \n",
              "306  Mon Aug 06 17:48:23 +0000 2018   \n",
              "307  Mon Aug 06 17:46:59 +0000 2018   \n",
              "308  Mon Aug 06 06:06:47 +0000 2018   \n",
              "309  Fri Aug 03 05:56:33 +0000 2018   \n",
              "310  Wed Aug 01 11:47:15 +0000 2018   \n",
              "311  Wed Aug 01 11:20:07 +0000 2018   \n",
              "312  Wed Aug 01 05:06:47 +0000 2018   \n",
              "313  Tue Jul 31 12:11:52 +0000 2018   \n",
              "314  Tue Jul 31 02:06:26 +0000 2018   \n",
              "315  Mon Jul 30 07:30:51 +0000 2018   \n",
              "316  Sat Jul 28 11:07:11 +0000 2018   \n",
              "317  Sat Jul 28 06:14:09 +0000 2018   \n",
              "318  Sat Jul 28 06:13:48 +0000 2018   \n",
              "319  Sat Jul 28 04:08:21 +0000 2018   \n",
              "320  Fri Jul 27 06:46:44 +0000 2018   \n",
              "321  Fri Jul 27 04:07:31 +0000 2018   \n",
              "322  Wed Jul 25 05:14:35 +0000 2018   \n",
              "323  Tue Jul 24 10:33:23 +0000 2018   \n",
              "324  Tue Jul 24 10:12:34 +0000 2018   \n",
              "325  Tue Jul 24 09:46:26 +0000 2018   \n",
              "326  Mon Jul 23 16:25:05 +0000 2018   \n",
              "\n",
              "                                                  text  retweet_count  \\\n",
              "0    We have emailed the task details to all candid...              1   \n",
              "1    RT @rfpvjr: Our NAACL paper on polarization in...             16   \n",
              "2    RT @kdnuggets: Effective Transfer Learning For...             10   \n",
              "3    RT @stanfordnlp: What’s new in @Stanford CS224...             55   \n",
              "4    RT @DeepMindAI: Today we're releasing a large-...            841   \n",
              "5    RT @ylecun: Congratulations Jitendra Malik !\\n...             16   \n",
              "6    RT @IIITDelhi: Another chance to take admissio...              4   \n",
              "7    Dear @midasIIITD internship candidates who hav...              1   \n",
              "8    Looking forward to your paper submission to @I...              1   \n",
              "9    RT @ngrams: Reproducibility in multimedia rese...              7   \n",
              "10   Online application for https://t.co/DJFDrQsHZP...              1   \n",
              "11   RT @ACMMM19: A final reminder of the Reproduci...             10   \n",
              "12   RT @isarth23: Thanks for the support and help ...              2   \n",
              "13   Since SemEval-2019 will be held June 6-7, 2019...              1   \n",
              "14   +@aggarwal_kartik.\\nCongrats! Wish you many mo...              0   \n",
              "15   RT @aggarwal_kartik: Our work (@midasIIITD ) a...              1   \n",
              "16   Congratulations! @midasIIITD team, @isarth23 @...              1   \n",
              "17   @EEMLcommunity @radamihalcea too many deadline...              0   \n",
              "18   RT @stanfordnlp: CS224N Natural Language Proce...            710   \n",
              "19   RT @ylecun: Learn PyTorch by running on Google...            157   \n",
              "20   Dr. Vineeth N Balasubramanian will present a T...              1   \n",
              "21   RT @ylecun: I am extremely honored to be the r...           1544   \n",
              "22   Thanks to all shortlisted candidates for submi...              1   \n",
              "23   @IEEEBigMM19 @ACMMM19 and 6 days left for work...              0   \n",
              "24   RT @IEEEBigMM19: Hurry Up!\\n6 Days left for Ab...              3   \n",
              "25   Congratulations @midasIIITD students Simra Sha...              1   \n",
              "26   The last date for submitting a solution for th...              3   \n",
              "27   RT @IIITDelhi: @IIITDelhi invites application ...              4   \n",
              "28   One more week is left to submit the workshop p...              0   \n",
              "29   RT @IEEEBigMM19: We are honored to have Dr. Ch...              5   \n",
              "..                                                 ...            ...   \n",
              "297  RT @kdnuggets: Ultimate Guide to Getting Start...            111   \n",
              "298  RT @TensorFlow: TensorFlow 1.10.0 has been rel...            265   \n",
              "299  @midasIIITD is looking for motivated IIITD MTe...              1   \n",
              "300  @IIITDelhi @ponguru @RatnRajiv The results of ...              1   \n",
              "301  RT @IIITDelhi: @midasIIITD has secured rank 1 ...              1   \n",
              "302  RT @kdnuggets: Comparison of Top 6 Python NLP ...             40   \n",
              "303  Check more details of the 20th IEEE Internatio...              1   \n",
              "304  MR2AMC@ISM 2018 will be organized by @RatnRaji...              1   \n",
              "305  Our workshop proposal named, \"MR2AMC: Multimod...              1   \n",
              "306  @NUSComputing Congratulations Abdelhak and Pro...              0   \n",
              "307  RT @goodfellow_ian: One of the most anticipate...            103   \n",
              "308     @the_dhumketu Great to have you in @midasIIITD              0   \n",
              "309  Congratulation @soujanyaporia for being appoin...              1   \n",
              "310  @IIITDelhi @the_dhumketu Thanks team @midasIII...              1   \n",
              "311  RT @IIITDelhi: Congratulations @midasIIITD int...              4   \n",
              "312  RT @learning_pt: Profile of the 5 Indian under...              4   \n",
              "313  Have a look at the list of accepted papers in ...              0   \n",
              "314  RT @goodfellow_ian: https://t.co/hYiWI7ntyk Te...            264   \n",
              "315  RT @IIITDelhi: Congratulations Dr. @RatnRajiv ...              2   \n",
              "316  RT @ylecun: Jitendra Malik, who directs FAIR-M...             57   \n",
              "317  RT @kdnuggets: .@Bloomberg launches free cours...            105   \n",
              "318  RT @TechAtBloomberg: Missed #PyLondinium18? Wa...              7   \n",
              "319  RT @IIITDelhi: We are delighted to announce th...              6   \n",
              "320  Get ready for the annual technical fest of @II...              2   \n",
              "321  Congratulations Dr. @RatnRajiv and team @midas...              2   \n",
              "322  Congratulations MIDAS @midasIIITD intern Prakh...              1   \n",
              "323    MIDAS@IIITD foundation. https://t.co/LKuzyBHzjm              1   \n",
              "324  It feels great to be the part of @IIITDelhi. h...              1   \n",
              "325  Thank you, @toonzratn for designing the logo o...              1   \n",
              "326  We are on Facebook too. Like our page to get o...              1   \n",
              "\n",
              "     favorite_count no_of_media  \n",
              "0                 7        None  \n",
              "1                 0        None  \n",
              "2                 0           1  \n",
              "3                 0        None  \n",
              "4                 0        None  \n",
              "5                 0        None  \n",
              "6                 0        None  \n",
              "7                 8        None  \n",
              "8                 5        None  \n",
              "9                 0        None  \n",
              "10                6        None  \n",
              "11                0        None  \n",
              "12                0        None  \n",
              "13                9        None  \n",
              "14                2        None  \n",
              "15                0        None  \n",
              "16                9        None  \n",
              "17                0        None  \n",
              "18                0        None  \n",
              "19                0        None  \n",
              "20                4        None  \n",
              "21                0        None  \n",
              "22                5        None  \n",
              "23                2        None  \n",
              "24                0        None  \n",
              "25               18        None  \n",
              "26                8        None  \n",
              "27                0        None  \n",
              "28                4        None  \n",
              "29                0        None  \n",
              "..              ...         ...  \n",
              "297               0           1  \n",
              "298               0        None  \n",
              "299               2        None  \n",
              "300               3           1  \n",
              "301               0        None  \n",
              "302               0           1  \n",
              "303               1        None  \n",
              "304               1        None  \n",
              "305               1        None  \n",
              "306               0        None  \n",
              "307               0           1  \n",
              "308               0        None  \n",
              "309               6        None  \n",
              "310               5           1  \n",
              "311               0        None  \n",
              "312               0        None  \n",
              "313               1        None  \n",
              "314               0        None  \n",
              "315               0        None  \n",
              "316               0        None  \n",
              "317               0        None  \n",
              "318               0        None  \n",
              "319               0        None  \n",
              "320               3        None  \n",
              "321               8        None  \n",
              "322               5        None  \n",
              "323               2        None  \n",
              "324               2        None  \n",
              "325               4           1  \n",
              "326               3        None  \n",
              "\n",
              "[327 rows x 5 columns]"
            ]
          },
          "metadata": {
            "tags": []
          },
          "execution_count": 65
        }
      ]
    },
    {
      "metadata": {
        "id": "HpuJiuWLFiql",
        "colab_type": "code",
        "colab": {
          "base_uri": "https://localhost:8080/",
          "height": 35
        },
        "outputId": "585bd18f-5c40-4888-8dd5-898bdc4d1bd1"
      },
      "cell_type": "code",
      "source": [
        "\n",
        "d.columns"
      ],
      "execution_count": 66,
      "outputs": [
        {
          "output_type": "execute_result",
          "data": {
            "text/plain": [
              "Index(['created_at', 'text', 'retweet_count', 'favorite_count', 'no_of_media'], dtype='object')"
            ]
          },
          "metadata": {
            "tags": []
          },
          "execution_count": 66
        }
      ]
    },
    {
      "metadata": {
        "id": "ke3TgbwkJltc",
        "colab_type": "code",
        "colab": {}
      },
      "cell_type": "code",
      "source": [
        ""
      ],
      "execution_count": 0,
      "outputs": []
    }
  ]
}